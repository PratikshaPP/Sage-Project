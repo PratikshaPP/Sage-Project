{
  "nbformat": 4,
  "nbformat_minor": 0,
  "metadata": {
    "kernelspec": {
      "display_name": "Python 3",
      "language": "python",
      "name": "python3"
    },
    "language_info": {
      "codemirror_mode": {
        "name": "ipython",
        "version": 3
      },
      "file_extension": ".py",
      "mimetype": "text/x-python",
      "name": "python",
      "nbconvert_exporter": "python",
      "pygments_lexer": "ipython3",
      "version": "3.6.4"
    },
    "colab": {
      "name": "Sage project - web scraper.ipynb",
      "provenance": [],
      "collapsed_sections": [],
      "include_colab_link": true
    }
  },
  "cells": [
    {
      "cell_type": "markdown",
      "metadata": {
        "id": "view-in-github",
        "colab_type": "text"
      },
      "source": [
        "<a href=\"https://colab.research.google.com/github/PratikshaPP/Sage-Project/blob/master/Sage_project_web_scraper.ipynb\" target=\"_parent\"><img src=\"https://colab.research.google.com/assets/colab-badge.svg\" alt=\"Open In Colab\"/></a>"
      ]
    },
    {
      "cell_type": "code",
      "metadata": {
        "id": "ZepBDaVIQk2S",
        "colab_type": "code",
        "colab": {}
      },
      "source": [
        "import requests\n",
        "from bs4 import BeautifulSoup\n",
        "import datetime"
      ],
      "execution_count": 0,
      "outputs": []
    },
    {
      "cell_type": "code",
      "metadata": {
        "id": "3UDqLPjw1bpE",
        "colab_type": "code",
        "colab": {
          "base_uri": "https://localhost:8080/",
          "height": 34
        },
        "outputId": "3a8a56c2-b012-47ff-96e6-871aba2af040"
      },
      "source": [
        "import arrow\n",
        "updateStr = \" 01 January 2016\"\n",
        "print(arrow.get(\"31 December 2019\",\"DD MMMM YYYY\").isoformat())\n",
        "date_dict = {}\n",
        "start = datetime.datetime.strptime(arrow.get(\"01 January 2019\",\"DD MMMM YYYY\").isoformat()[:19],\"%Y-%m-%dT%H:%M:%S\")\n",
        "end = datetime.datetime.strptime(arrow.get(\"31 December 2019\",\"DD MMMM YYYY\").isoformat()[0:19],\"%Y-%m-%dT%H:%M:%S\")\n",
        "\n",
        "delta = end - start\n",
        "fmt = \"YYYY-MM-DD HH:mm:ss\"\n",
        "for i in range(delta.days + 1):\n",
        "    date_dict[str(arrow.get(str(start + datetime.timedelta(days=i)),fmt))] = 0"
      ],
      "execution_count": 146,
      "outputs": [
        {
          "output_type": "stream",
          "text": [
            "2019-12-31T00:00:00+00:00\n"
          ],
          "name": "stdout"
        }
      ]
    },
    {
      "cell_type": "code",
      "metadata": {
        "id": "jIeJlHBNQk2a",
        "colab_type": "code",
        "colab": {}
      },
      "source": [
        "URL = \"https://en.wikipedia.org/wiki/2019_in_spaceflight#Orbital_launches\""
      ],
      "execution_count": 0,
      "outputs": []
    },
    {
      "cell_type": "code",
      "metadata": {
        "id": "Bay6Y4btQk2d",
        "colab_type": "code",
        "colab": {}
      },
      "source": [
        "res = requests.get(URL).text\n",
        "soup = BeautifulSoup(res,'lxml')"
      ],
      "execution_count": 0,
      "outputs": []
    },
    {
      "cell_type": "code",
      "metadata": {
        "id": "ScYkdpODQk2i",
        "colab_type": "code",
        "colab": {}
      },
      "source": [
        "tb = soup.find(\"table\", attrs={\"class\": \"wikitable\"})"
      ],
      "execution_count": 0,
      "outputs": []
    },
    {
      "cell_type": "code",
      "metadata": {
        "id": "e8hMqPOsQk2k",
        "colab_type": "code",
        "colab": {}
      },
      "source": [
        "rows = tb.findAll(\"tr\")"
      ],
      "execution_count": 0,
      "outputs": []
    },
    {
      "cell_type": "code",
      "metadata": {
        "id": "0FUaV56aQk2m",
        "colab_type": "code",
        "colab": {}
      },
      "source": [
        "for row in rows[4:]:\n",
        "    try:\n",
        "        payloads = row.findAll(\"td\")\n",
        "        \n",
        "        if len(payloads) == 5:\n",
        "            date = payloads[0].span.text\n",
        "            #print(date)\n",
        "        else:\n",
        "\n",
        "            i = 1\n",
        "            success = 0\n",
        "            while(len(payloads)==6):\n",
        "                if(payloads[i].get_text(strip=True)[:11].lower() == \"operational\" or payloads[i].get_text(strip=True).lower()[:10] == \"successful\"or payloads[i].get_text(strip=True).lower()[:9] == \"en route\"):\n",
        "                  success = 1\n",
        "                  break\n",
        "                i = i+1\n",
        "\n",
        "            if(success == 1 and len(date)!=0):\n",
        "                key = arrow.get(date+\" 2019\",\"D MMMM YYYY\").isoformat()\n",
        "                date_dict[key] = date_dict[key]+success\n",
        "              \n",
        "                date = \"\"\n",
        "\n",
        "    except:\n",
        "        pass\n",
        "    "
      ],
      "execution_count": 0,
      "outputs": []
    },
    {
      "cell_type": "code",
      "metadata": {
        "id": "aH8vmdXDNQf6",
        "colab_type": "code",
        "colab": {
          "base_uri": "https://localhost:8080/",
          "height": 122
        },
        "outputId": "05ef9318-c314-4094-fdb4-8a167da6ff3d"
      },
      "source": [
        "import os\n",
        "from google.colab import drive\n",
        "drive.mount(\"/content/drive\")"
      ],
      "execution_count": 133,
      "outputs": [
        {
          "output_type": "stream",
          "text": [
            "Go to this URL in a browser: https://accounts.google.com/o/oauth2/auth?client_id=947318989803-6bn6qk8qdgf4n4g3pfee6491hc0brc4i.apps.googleusercontent.com&redirect_uri=urn%3aietf%3awg%3aoauth%3a2.0%3aoob&response_type=code&scope=email%20https%3a%2f%2fwww.googleapis.com%2fauth%2fdocs.test%20https%3a%2f%2fwww.googleapis.com%2fauth%2fdrive%20https%3a%2f%2fwww.googleapis.com%2fauth%2fdrive.photos.readonly%20https%3a%2f%2fwww.googleapis.com%2fauth%2fpeopleapi.readonly\n",
            "\n",
            "Enter your authorization code:\n",
            "··········\n",
            "Mounted at /content/drive\n"
          ],
          "name": "stdout"
        }
      ]
    },
    {
      "cell_type": "code",
      "metadata": {
        "id": "7svRcIEuMe-d",
        "colab_type": "code",
        "colab": {}
      },
      "source": [
        "import csv\n",
        "csv_file = \"/content/drive/My Drive/Colab Notebooks/output.csv\"\n",
        "\n",
        "with open(csv_file, 'w') as f:\n",
        "    f.write(\"%s, %s\\n\" % (\"date\",\"value\"))\n",
        "    for key in date_dict.keys():\n",
        "        f.write(\"%s, %s\\n\" % (key, str(date_dict[key])))\n"
      ],
      "execution_count": 0,
      "outputs": []
    }
  ]
}