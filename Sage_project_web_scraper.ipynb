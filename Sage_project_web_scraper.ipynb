{
  "nbformat": 4,
  "nbformat_minor": 0,
  "metadata": {
    "kernelspec": {
      "display_name": "Python 3",
      "language": "python",
      "name": "python3"
    },
    "language_info": {
      "codemirror_mode": {
        "name": "ipython",
        "version": 3
      },
      "file_extension": ".py",
      "mimetype": "text/x-python",
      "name": "python",
      "nbconvert_exporter": "python",
      "pygments_lexer": "ipython3",
      "version": "3.6.4"
    },
    "colab": {
      "name": "Copy of Sage project - web scraper.ipynb",
      "provenance": [],
      "collapsed_sections": [],
      "include_colab_link": true
    }
  },
  "cells": [
    {
      "cell_type": "markdown",
      "metadata": {
        "id": "view-in-github",
        "colab_type": "text"
      },
      "source": [
        "<a href=\"https://colab.research.google.com/github/PratikshaPP/Sage-Project/blob/master/Sage_project_web_scraper.ipynb\" target=\"_parent\"><img src=\"https://colab.research.google.com/assets/colab-badge.svg\" alt=\"Open In Colab\"/></a>"
      ]
    },
    {
      "cell_type": "code",
      "metadata": {
        "id": "A6fx-VEmk_V3",
        "colab_type": "code",
        "outputId": "87faf1c8-ebcc-48c2-d6d0-d5111f7436f4",
        "colab": {
          "base_uri": "https://localhost:8080/",
          "height": 156
        }
      },
      "source": [
        "!pip install arrow"
      ],
      "execution_count": 0,
      "outputs": [
        {
          "output_type": "stream",
          "text": [
            "Collecting arrow\n",
            "\u001b[?25l  Downloading https://files.pythonhosted.org/packages/92/fa/f84896dede5decf284e6922134bf03fd26c90870bbf8015f4e8ee2a07bcc/arrow-0.15.5-py2.py3-none-any.whl (46kB)\n",
            "\r\u001b[K     |███████                         | 10kB 18.2MB/s eta 0:00:01\r\u001b[K     |██████████████                  | 20kB 2.2MB/s eta 0:00:01\r\u001b[K     |█████████████████████           | 30kB 3.2MB/s eta 0:00:01\r\u001b[K     |███████████████████████████▉    | 40kB 2.1MB/s eta 0:00:01\r\u001b[K     |████████████████████████████████| 51kB 2.0MB/s \n",
            "\u001b[?25hRequirement already satisfied: python-dateutil in /usr/local/lib/python3.6/dist-packages (from arrow) (2.6.1)\n",
            "Requirement already satisfied: six>=1.5 in /usr/local/lib/python3.6/dist-packages (from python-dateutil->arrow) (1.12.0)\n",
            "Installing collected packages: arrow\n",
            "Successfully installed arrow-0.15.5\n"
          ],
          "name": "stdout"
        }
      ]
    },
    {
      "cell_type": "code",
      "metadata": {
        "id": "ZepBDaVIQk2S",
        "colab_type": "code",
        "colab": {}
      },
      "source": [
        "#Imports\n",
        "import requests\n",
        "from bs4 import BeautifulSoup\n",
        "import datetime\n",
        "import arrow"
      ],
      "execution_count": 0,
      "outputs": []
    },
    {
      "cell_type": "code",
      "metadata": {
        "id": "3UDqLPjw1bpE",
        "colab_type": "code",
        "colab": {}
      },
      "source": [
        "#Create a date:value dictionary and initialize it\n",
        "date_dict = {}\n",
        "start = datetime.datetime.strptime(arrow.get(\"01 January 2019\",\"DD MMMM YYYY\").isoformat()[:19],\"%Y-%m-%dT%H:%M:%S\")\n",
        "end = datetime.datetime.strptime(arrow.get(\"31 December 2019\",\"DD MMMM YYYY\").isoformat()[0:19],\"%Y-%m-%dT%H:%M:%S\")\n",
        "\n",
        "delta = end - start\n",
        "fmt = \"YYYY-MM-DD HH:mm:ss\"\n",
        "for i in range(delta.days + 1):\n",
        "    date_dict[str(arrow.get(str(start + datetime.timedelta(days=i)),fmt))] = 0"
      ],
      "execution_count": 0,
      "outputs": []
    },
    {
      "cell_type": "code",
      "metadata": {
        "id": "jIeJlHBNQk2a",
        "colab_type": "code",
        "colab": {}
      },
      "source": [
        "URL = \"https://en.wikipedia.org/wiki/2019_in_spaceflight#Orbital_launches\""
      ],
      "execution_count": 0,
      "outputs": []
    },
    {
      "cell_type": "code",
      "metadata": {
        "id": "Bay6Y4btQk2d",
        "colab_type": "code",
        "colab": {}
      },
      "source": [
        "res = requests.get(URL).text\n",
        "soup = BeautifulSoup(res,'lxml')"
      ],
      "execution_count": 0,
      "outputs": []
    },
    {
      "cell_type": "code",
      "metadata": {
        "id": "ScYkdpODQk2i",
        "colab_type": "code",
        "colab": {}
      },
      "source": [
        "tb = soup.find(\"table\", attrs={\"class\": \"wikitable\"})"
      ],
      "execution_count": 0,
      "outputs": []
    },
    {
      "cell_type": "code",
      "metadata": {
        "id": "e8hMqPOsQk2k",
        "colab_type": "code",
        "colab": {}
      },
      "source": [
        "rows = tb.findAll(\"tr\")"
      ],
      "execution_count": 0,
      "outputs": []
    },
    {
      "cell_type": "code",
      "metadata": {
        "id": "0FUaV56aQk2m",
        "colab_type": "code",
        "colab": {}
      },
      "source": [
        "# Scraping logic\n",
        "for row in rows[4:]:\n",
        "    try:\n",
        "        payloads = row.findAll(\"td\")\n",
        "        \n",
        "        if len(payloads) == 5:\n",
        "            date = payloads[0].span.text\n",
        "            #print(date)\n",
        "        else:\n",
        "\n",
        "            i = 1\n",
        "            success = 0\n",
        "            while(len(payloads)==6):\n",
        "                if(payloads[i].get_text(strip=True)[:11].lower() == \"operational\" or payloads[i].get_text(strip=True).lower()[:10] == \"successful\"or payloads[i].get_text(strip=True).lower()[:8] == \"en route\"):\n",
        "                  success = 1\n",
        "                  break\n",
        "                i = i+1\n",
        "\n",
        "            if(success == 1 and len(date)!=0):\n",
        "                key = arrow.get(date+\" 2019\",\"D MMMM YYYY\").isoformat()\n",
        "                date_dict[key] = date_dict[key]+success\n",
        "              \n",
        "                date = \"\"\n",
        "\n",
        "    except:\n",
        "        pass\n",
        "    "
      ],
      "execution_count": 0,
      "outputs": []
    },
    {
      "cell_type": "code",
      "metadata": {
        "id": "aH8vmdXDNQf6",
        "colab_type": "code",
        "outputId": "a8a4dd97-1b51-4339-b652-80b67d792b31",
        "colab": {
          "base_uri": "https://localhost:8080/",
          "height": 34
        }
      },
      "source": [
        "#If you are using google colab, run this before executing the next block of code\n",
        "import os\n",
        "from google.colab import drive\n",
        "drive.mount(\"/content/drive\")"
      ],
      "execution_count": 0,
      "outputs": [
        {
          "output_type": "stream",
          "text": [
            "Drive already mounted at /content/drive; to attempt to forcibly remount, call drive.mount(\"/content/drive\", force_remount=True).\n"
          ],
          "name": "stdout"
        }
      ]
    },
    {
      "cell_type": "code",
      "metadata": {
        "id": "7svRcIEuMe-d",
        "colab_type": "code",
        "colab": {}
      },
      "source": [
        "#Provide the path of the csv output file in your local/colab\n",
        "csv_file = \"/content/drive/My Drive/Colab Notebooks/output.csv\"\n",
        "\n",
        "with open(csv_file, 'w') as f:\n",
        "    f.write(\"%s, %s\\n\" % (\"date\",\"value\"))\n",
        "    for key in date_dict.keys():\n",
        "        f.write(\"%s, %s\\n\" % (key, str(date_dict[key])))\n"
      ],
      "execution_count": 0,
      "outputs": []
    }
  ]
}